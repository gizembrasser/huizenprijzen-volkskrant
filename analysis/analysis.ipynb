{
 "cells": [
  {
   "cell_type": "markdown",
   "metadata": {},
   "source": [
    "# Aanbod huurwoningen in Nederland"
   ]
  },
  {
   "cell_type": "code",
   "execution_count": 2,
   "metadata": {},
   "outputs": [
    {
     "name": "stdout",
     "output_type": "stream",
     "text": [
      "<class 'pandas.core.frame.DataFrame'>\n",
      "RangeIndex: 2112 entries, 0 to 2111\n",
      "Data columns (total 6 columns):\n",
      " #   Column            Non-Null Count  Dtype \n",
      "---  ------            --------------  ----- \n",
      " 0   Link              2112 non-null   object\n",
      " 1   Huurprijs         2110 non-null   object\n",
      " 2   Locatie           2110 non-null   object\n",
      " 3   m2                2112 non-null   object\n",
      " 4   Huurovereenkomst  1064 non-null   object\n",
      " 5   Beschrijving      2110 non-null   object\n",
      "dtypes: object(6)\n",
      "memory usage: 99.1+ KB\n"
     ]
    }
   ],
   "source": [
    "import pandas as pd\n",
    "\n",
    "pararius = pd.read_csv(\"../data/pararius_listings.csv\")\n",
    "pararius.info()"
   ]
  },
  {
   "cell_type": "markdown",
   "metadata": {},
   "source": [
    "### Opschonen\n",
    "\n",
    "Om de dataset te kunnen analyseren moeten eerst een aantal kolommen een ander datatype krijgen, worden opgeschoond en waar nodig worden bijgevuld:\n",
    "\n",
    "1. Er zijn twee links die geen waarden hebben voor `Huurprijs`, `Locatie` en `Beschrijving`. Deze links werken niet meer dus we verwijderen deze rijen.\n",
    "2. De `Huurprijs` kolom moet worden omgezet naar een `float`.\n",
    "    - Sommige van deze waarden worden als volgt weergeven: '€ 1.075 - 1.775 per month'. In dat geval berekenen we het gemiddelde van de prijs.\n",
    "    - Voor sommige huurwoningen moet je de prijs opvragen, de waarde is dan 'Price on request'. Voor dat geval voegen we een nieuwe kolom toe `Verzoek` met als waarde `True` of `False`.\n",
    "3. De `m2` moet ook worden omgezet naar `float`.\n",
    "    - Hier geldt dezelfde uitzondering als bij de huurprijs. We berekenen ook het gemiddelde aantal vierkante meter in dit geval.\n",
    "4. De `Locatie` kolom bevat een postcode en de naam van de buurt. Dit gaan we opsplitsen in twee kolommen.\n",
    "5. De URL in de `Link` kolom bevat de stad waarin de woning staat. Hiervoor maken we een nieuwe kolom `Stad`."
   ]
  },
  {
   "cell_type": "code",
   "execution_count": 3,
   "metadata": {},
   "outputs": [],
   "source": [
    "# Vind de lege rijen en verwijder ze\n",
    "lege_rijen = pararius[pararius[['Huurprijs', 'Locatie', 'Beschrijving']].isnull().all(axis=1)]\n",
    "pararius = pararius.drop(lege_rijen.index)"
   ]
  },
  {
   "cell_type": "code",
   "execution_count": 4,
   "metadata": {},
   "outputs": [
    {
     "data": {
      "text/html": [
       "<div>\n",
       "<style scoped>\n",
       "    .dataframe tbody tr th:only-of-type {\n",
       "        vertical-align: middle;\n",
       "    }\n",
       "\n",
       "    .dataframe tbody tr th {\n",
       "        vertical-align: top;\n",
       "    }\n",
       "\n",
       "    .dataframe thead th {\n",
       "        text-align: right;\n",
       "    }\n",
       "</style>\n",
       "<table border=\"1\" class=\"dataframe\">\n",
       "  <thead>\n",
       "    <tr style=\"text-align: right;\">\n",
       "      <th></th>\n",
       "      <th>Link</th>\n",
       "      <th>Huurprijs</th>\n",
       "      <th>Locatie</th>\n",
       "      <th>m2</th>\n",
       "      <th>Huurovereenkomst</th>\n",
       "      <th>Beschrijving</th>\n",
       "      <th>Verzoek</th>\n",
       "      <th>Buurt</th>\n",
       "      <th>Stad</th>\n",
       "    </tr>\n",
       "  </thead>\n",
       "  <tbody>\n",
       "    <tr>\n",
       "      <th>0</th>\n",
       "      <td>https://www.pararius.com/apartment-for-rent/am...</td>\n",
       "      <td>1900.0</td>\n",
       "      <td>1012 ES</td>\n",
       "      <td>65.0</td>\n",
       "      <td>Unlimited period</td>\n",
       "      <td>Description\\r\\nGreat Location , 1 bedroom apt ...</td>\n",
       "      <td>False</td>\n",
       "      <td>Burgwallen-Oude Zijde</td>\n",
       "      <td>amsterdam</td>\n",
       "    </tr>\n",
       "    <tr>\n",
       "      <th>1</th>\n",
       "      <td>https://www.pararius.com/apartment-for-rent/zo...</td>\n",
       "      <td>2100.0</td>\n",
       "      <td>2718 SJ</td>\n",
       "      <td>106.0</td>\n",
       "      <td>Unlimited period</td>\n",
       "      <td>Description\\r\\nUnfurnished 4-room apartment lo...</td>\n",
       "      <td>False</td>\n",
       "      <td>Lansinghage c.a.</td>\n",
       "      <td>zoetermeer</td>\n",
       "    </tr>\n",
       "    <tr>\n",
       "      <th>2</th>\n",
       "      <td>https://www.pararius.com/apartment-for-rent/de...</td>\n",
       "      <td>800.0</td>\n",
       "      <td>2563 BH</td>\n",
       "      <td>35.0</td>\n",
       "      <td>Unlimited period</td>\n",
       "      <td>Description\\r\\nSuper nice apartment on Laan va...</td>\n",
       "      <td>False</td>\n",
       "      <td>Valkenboskwartier</td>\n",
       "      <td>den-haag</td>\n",
       "    </tr>\n",
       "    <tr>\n",
       "      <th>3</th>\n",
       "      <td>https://www.pararius.com/apartment-for-rent/ti...</td>\n",
       "      <td>1725.0</td>\n",
       "      <td>5038 BW</td>\n",
       "      <td>84.0</td>\n",
       "      <td>Temporary rental</td>\n",
       "      <td>Description\\r\\nCan be rented for a maximum of ...</td>\n",
       "      <td>False</td>\n",
       "      <td>Binnenstad Oost</td>\n",
       "      <td>tilburg</td>\n",
       "    </tr>\n",
       "    <tr>\n",
       "      <th>4</th>\n",
       "      <td>https://www.pararius.com/apartment-for-rent/os...</td>\n",
       "      <td>1010.0</td>\n",
       "      <td>5341 EB</td>\n",
       "      <td>56.0</td>\n",
       "      <td>Unlimited period</td>\n",
       "      <td>Description\\r\\nNice apartment with balcony for...</td>\n",
       "      <td>False</td>\n",
       "      <td>Centrum-Zuid</td>\n",
       "      <td>oss</td>\n",
       "    </tr>\n",
       "  </tbody>\n",
       "</table>\n",
       "</div>"
      ],
      "text/plain": [
       "                                                Link  Huurprijs  Locatie  \\\n",
       "0  https://www.pararius.com/apartment-for-rent/am...     1900.0  1012 ES   \n",
       "1  https://www.pararius.com/apartment-for-rent/zo...     2100.0  2718 SJ   \n",
       "2  https://www.pararius.com/apartment-for-rent/de...      800.0  2563 BH   \n",
       "3  https://www.pararius.com/apartment-for-rent/ti...     1725.0  5038 BW   \n",
       "4  https://www.pararius.com/apartment-for-rent/os...     1010.0  5341 EB   \n",
       "\n",
       "      m2  Huurovereenkomst                                       Beschrijving  \\\n",
       "0   65.0  Unlimited period  Description\\r\\nGreat Location , 1 bedroom apt ...   \n",
       "1  106.0  Unlimited period  Description\\r\\nUnfurnished 4-room apartment lo...   \n",
       "2   35.0  Unlimited period  Description\\r\\nSuper nice apartment on Laan va...   \n",
       "3   84.0  Temporary rental  Description\\r\\nCan be rented for a maximum of ...   \n",
       "4   56.0  Unlimited period  Description\\r\\nNice apartment with balcony for...   \n",
       "\n",
       "   Verzoek                  Buurt        Stad  \n",
       "0    False  Burgwallen-Oude Zijde   amsterdam  \n",
       "1    False       Lansinghage c.a.  zoetermeer  \n",
       "2    False      Valkenboskwartier    den-haag  \n",
       "3    False        Binnenstad Oost     tilburg  \n",
       "4    False           Centrum-Zuid         oss  "
      ]
     },
     "execution_count": 4,
     "metadata": {},
     "output_type": "execute_result"
    }
   ],
   "source": [
    "def schoon_huurprijs(prijs):\n",
    "    \"\"\"Functie om de 'Huurprijs' kolom op te schonen.\"\"\"\n",
    "    if isinstance(prijs, float) or prijs is None:\n",
    "        return prijs\n",
    "    \n",
    "    if \"Price on request\" in str(prijs):\n",
    "        return None # Lege waarde voor de huurprijs\n",
    "    \n",
    "    prijs = prijs.replace(\"€\", \"\").replace(\"per month\", \"\").replace(\",\", \"\").strip()\n",
    "\n",
    "    # Check of de huurprijs twee prijzen kan zijn\n",
    "    if \"-\" in prijs:\n",
    "        laag, hoog = prijs.split(\"-\")\n",
    "        laag = float(laag.strip())\n",
    "        hoog = float(hoog.strip())\n",
    "        return (laag + hoog) / 2 # Bereken het gemiddelde van de twee prijzen\n",
    "    else:\n",
    "        return float(prijs)\n",
    "\n",
    "\n",
    "def schoon_m2(waarde):\n",
    "    \"\"\"Functie om de 'm2' kolom op te schonen.\"\"\"\n",
    "    if pd.isnull(waarde):\n",
    "        return None\n",
    "    \n",
    "    waarde = waarde.replace(\"m²\", \"\").replace(\"㎡\", \"\").strip()\n",
    "\n",
    "    # Bereken het gemiddelde als er twee waarden voor 'm2' zijn\n",
    "    if \"-\" in waarde:\n",
    "        laag, hoog = waarde.split(\"-\")\n",
    "        laag = laag.strip()\n",
    "        hoog = hoog.strip()\n",
    "        return (float(laag) + float(hoog)) / 2\n",
    "    else:\n",
    "        return float(waarde)\n",
    "\n",
    "\n",
    "def krijg_buurt(locatie):\n",
    "    \"\"\"Functie die de 'Locatie' kolom opsplits in de postcode en buurt.\"\"\"\n",
    "    if pd.isnull(locatie):\n",
    "        return None\n",
    "    \n",
    "    if \"(\" in locatie and \")\" in locatie:\n",
    "        buurt = locatie.split(\"(\")[-1].split(\")\")[0].strip()\n",
    "        return buurt\n",
    "    else:\n",
    "        return None\n",
    "\n",
    "\n",
    "def krijg_stad(link):\n",
    "    \"\"\"Functie die de stad uit de URL in de 'Link' kolom haalt.\"\"\"\n",
    "    if pd.isnull(link):\n",
    "        return None\n",
    "    \n",
    "    # Splits de URL op en haal de naam van de stad op\n",
    "    try:\n",
    "        return link.split(\"/\")[4] #\n",
    "    except IndexError:\n",
    "        return None\n",
    "\n",
    "\n",
    "# Huurprijs opschonen\n",
    "pararius[\"Verzoek\"] = pararius[\"Huurprijs\"].apply(lambda x: True if \"Price on request\" in str(x) else False)\n",
    "pararius[\"Huurprijs\"] = pararius[\"Huurprijs\"].apply(schoon_huurprijs)\n",
    "\n",
    "# Vierkante meter opschonen\n",
    "pararius[\"m2\"] = pararius[\"m2\"].apply(schoon_m2)\n",
    "\n",
    "# Locatie opschonen\n",
    "pararius['Buurt'] = pararius['Locatie'].apply(krijg_buurt)\n",
    "pararius['Locatie'] = pararius['Locatie'].apply(lambda x: x.split('(')[0].strip() if pd.notnull(x) else x)\n",
    "\n",
    "# Voeg de 'Stad' kolom toe\n",
    "pararius[\"Stad\"] = pararius[\"Link\"].apply(krijg_stad)\n",
    "\n",
    "pararius.head()"
   ]
  },
  {
   "cell_type": "markdown",
   "metadata": {},
   "source": [
    "## 1. Middenhuurwoningen\n",
    "\n",
    "Op 25 juni 2024 heeft de Eerste Kamer ingestemd met de [Wet betaalbare huur](https://www.vbk.nl/legalupdate/wet-betaalbare-huur-middenhuur-aangenomen). Dit betekent o.a. dat de huurprijzen van woningen t/m 186 punten (middenhuurwoningen) begrensd worden. Het middenhuursegment gaat dus bestaan uit woningen met een huurprijs van meer dan € 879,66 per maand en maximaal € 1.165,81.\n",
    "\n",
    "We gaan dus woningen filteren tussen deze prijsgrenzen. Hoeveel woningen uit de gehele dataset behoren tot dit middenhuursegment?\n"
   ]
  },
  {
   "cell_type": "code",
   "execution_count": 5,
   "metadata": {},
   "outputs": [
    {
     "name": "stdout",
     "output_type": "stream",
     "text": [
      "Percentage huurwoningen die tot het middenhuursegment horen: 9.10%\n"
     ]
    }
   ],
   "source": [
    "# Filter het middenhuursegment\n",
    "middenhuur = pararius[(pararius['Huurprijs'] > 879.66) & (pararius['Huurprijs'] < 1165.81)]\n",
    "\n",
    "rijen = len(pararius)\n",
    "middenhuur_rijen = len(middenhuur)\n",
    "\n",
    "percentage_middenhuur = (middenhuur_rijen / rijen) * 100\n",
    "\n",
    "print(f\"Percentage huurwoningen die tot het middenhuursegment horen: {percentage_middenhuur:.2f}%\")"
   ]
  },
  {
   "cell_type": "markdown",
   "metadata": {},
   "source": [
    "Wat is de gemiddelde prijs en aantal vierkante meter voor een middenhuurwoning?"
   ]
  },
  {
   "cell_type": "code",
   "execution_count": 6,
   "metadata": {},
   "outputs": [
    {
     "name": "stdout",
     "output_type": "stream",
     "text": [
      "Gemiddelde huurprijs voor een middenhuurwoning: €1024.83\n",
      "Gemiddeld aantal vierkante meter voor een middenhuurwoning: 57.96 m²\n"
     ]
    }
   ],
   "source": [
    "# Bereken de gemiddelden\n",
    "gem_huurprijs = middenhuur[\"Huurprijs\"].mean()\n",
    "gem_m2 = middenhuur[\"m2\"].mean()\n",
    "\n",
    "print(f\"Gemiddelde huurprijs voor een middenhuurwoning: €{gem_huurprijs:.2f}\")\n",
    "print(f\"Gemiddeld aantal vierkante meter voor een middenhuurwoning: {gem_m2:.2f} m²\")"
   ]
  },
  {
   "cell_type": "markdown",
   "metadata": {},
   "source": [
    "In welke steden staan de meeste middenhuurwoningen?"
   ]
  },
  {
   "cell_type": "code",
   "execution_count": 9,
   "metadata": {},
   "outputs": [
    {
     "name": "stdout",
     "output_type": "stream",
     "text": [
      "Stad\n",
      "groningen     25\n",
      "rotterdam     15\n",
      "maastricht    11\n",
      "eindhoven      9\n",
      "nijmegen       8\n",
      "Name: count, dtype: int64\n"
     ]
    }
   ],
   "source": [
    "top_5_steden = middenhuur[\"Stad\"].value_counts().head(5)\n",
    "\n",
    "print(top_5_steden)"
   ]
  },
  {
   "cell_type": "markdown",
   "metadata": {},
   "source": [
    "## 2. Puntenstelsel "
   ]
  }
 ],
 "metadata": {
  "kernelspec": {
   "display_name": "Python 3",
   "language": "python",
   "name": "python3"
  },
  "language_info": {
   "codemirror_mode": {
    "name": "ipython",
    "version": 3
   },
   "file_extension": ".py",
   "mimetype": "text/x-python",
   "name": "python",
   "nbconvert_exporter": "python",
   "pygments_lexer": "ipython3",
   "version": "3.12.7"
  }
 },
 "nbformat": 4,
 "nbformat_minor": 2
}
