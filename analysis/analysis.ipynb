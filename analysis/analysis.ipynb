{
 "cells": [
  {
   "cell_type": "markdown",
   "metadata": {},
   "source": [
    "# Aanbod middenhuurwoningen in Nederland"
   ]
  },
  {
   "cell_type": "code",
   "execution_count": 60,
   "metadata": {},
   "outputs": [
    {
     "name": "stdout",
     "output_type": "stream",
     "text": [
      "<class 'pandas.core.frame.DataFrame'>\n",
      "RangeIndex: 2112 entries, 0 to 2111\n",
      "Data columns (total 6 columns):\n",
      " #   Column            Non-Null Count  Dtype \n",
      "---  ------            --------------  ----- \n",
      " 0   Link              2112 non-null   object\n",
      " 1   Huurprijs         2110 non-null   object\n",
      " 2   Locatie           2110 non-null   object\n",
      " 3   m2                2112 non-null   object\n",
      " 4   Huurovereenkomst  1064 non-null   object\n",
      " 5   Beschrijving      2110 non-null   object\n",
      "dtypes: object(6)\n",
      "memory usage: 99.1+ KB\n"
     ]
    }
   ],
   "source": [
    "import pandas as pd\n",
    "\n",
    "pararius = pd.read_csv(\"../data/pararius_listings.csv\")\n",
    "pararius.info()"
   ]
  },
  {
   "cell_type": "markdown",
   "metadata": {},
   "source": [
    "### Opschonen\n",
    "\n",
    "Om de dataset te kunnen analyseren moeten eerst een aantal kolommen een ander datatype krijgen, worden opgeschoond en waar nodig worden bijgevuld:\n",
    "\n",
    "1. Er zijn twee links die geen waarden hebben voor `Huurprijs`, `Locatie` en `Beschrijving`. Deze links werken niet meer dus we verwijderen deze rijen.\n",
    "2. De `Huurprijs` kolom moet worden omgezet naar een `float`.\n",
    "    - Sommige van deze waarden worden als volgt weergeven: '€ 1.075 - 1.775 per month'. In dat geval berekenen we het gemiddelde van de prijs.\n",
    "    - Voor sommige huurwoningen moet je de prijs opvragen, de waarde is dan 'Price on request'. Voor dat geval voegen we een nieuwe kolom toe `Verzoek` met als waarde `True` of `False`.\n",
    "3. De `m2` moet ook worden omgezet naar `float`.\n",
    "    - Hier geldt dezelfde uitzondering als bij de huurprijs. We berekenen ook het gemiddelde aantal vierkante meter in dit geval.\n",
    "4. De `Locatie` kolom bevat een postcode en de naam van de buurt. Dit gaan we opsplitsen in twee kolommen."
   ]
  },
  {
   "cell_type": "code",
   "execution_count": 61,
   "metadata": {},
   "outputs": [],
   "source": [
    "# Vind de lege rijen en verwijder ze\n",
    "lege_rijen = pararius[pararius[['Huurprijs', 'Locatie', 'Beschrijving']].isnull().all(axis=1)]\n",
    "pararius = pararius.drop(lege_rijen.index)"
   ]
  },
  {
   "cell_type": "code",
   "execution_count": 62,
   "metadata": {},
   "outputs": [],
   "source": [
    "def schoon_huurprijs(prijs):\n",
    "    \"\"\"Functie om de 'Huurprijs' kolom op te schonen.\"\"\"\n",
    "    if isinstance(prijs, float) or prijs is None:\n",
    "        return prijs\n",
    "    \n",
    "    if \"Price on request\" in str(prijs):\n",
    "        return None # Lege waarde voor de huurprijs\n",
    "    \n",
    "    prijs = prijs.replace(\"€\", \"\").replace(\"per month\", \"\").replace(\",\", \"\").strip()\n",
    "\n",
    "    # Check of de huurprijs twee prijzen kan zijn\n",
    "    if \"-\" in prijs:\n",
    "        laag, hoog = prijs.split(\"-\")\n",
    "        laag = float(laag.strip())\n",
    "        hoog = float(hoog.strip())\n",
    "        return (laag + hoog) / 2 # Bereken het gemiddelde van de twee prijzen\n",
    "    else:\n",
    "        return float(prijs)\n",
    "\n",
    "\n",
    "def schoon_m2(waarde):\n",
    "    \"\"\"Functie om de 'm2' kolom op te schonen.\"\"\"\n",
    "    if pd.isnull(waarde):\n",
    "        return None\n",
    "    \n",
    "    waarde = waarde.replace(\"m²\", \"\").replace(\"㎡\", \"\").strip()\n",
    "\n",
    "    # Bereken het gemiddelde als er twee waarden voor 'm2' zijn\n",
    "    if \"-\" in waarde:\n",
    "        laag, hoog = waarde.split(\"-\")\n",
    "        laag = laag.strip()\n",
    "        hoog = hoog.strip()\n",
    "        return (float(laag) + float(hoog)) / 2\n",
    "    else:\n",
    "        return float(waarde)\n",
    "\n",
    "\n",
    "def krijg_buurt(locatie):\n",
    "    \"\"\"Functie die de 'Locatie' kolom opsplits in de postcode en buurt.\"\"\"\n",
    "    if pd.isnull(locatie):\n",
    "        return None\n",
    "    \n",
    "    if \"(\" in locatie and \")\" in locatie:\n",
    "        buurt = locatie.split(\"(\")[-1].split(\")\")[0].strip()\n",
    "        return buurt\n",
    "    else:\n",
    "        return None\n",
    "\n",
    "\n",
    "# Huurprijs opschonen\n",
    "pararius[\"Verzoek\"] = pararius[\"Huurprijs\"].apply(lambda x: True if \"Price on request\" in str(x) else False)\n",
    "pararius[\"Huurprijs\"] = pararius[\"Huurprijs\"].apply(schoon_huurprijs)\n",
    "\n",
    "# Vierkante meter opschonen\n",
    "pararius[\"m2\"] = pararius[\"m2\"].apply(schoon_m2)\n",
    "\n",
    "# Locatie opschonen\n",
    "pararius['Buurt'] = pararius['Locatie'].apply(krijg_buurt)\n",
    "pararius['Locatie'] = pararius['Locatie'].apply(lambda x: x.split('(')[0].strip() if pd.notnull(x) else x)\n",
    "\n",
    "pararius.head()"
   ]
  }
 ],
 "metadata": {
  "kernelspec": {
   "display_name": "Python 3",
   "language": "python",
   "name": "python3"
  },
  "language_info": {
   "codemirror_mode": {
    "name": "ipython",
    "version": 3
   },
   "file_extension": ".py",
   "mimetype": "text/x-python",
   "name": "python",
   "nbconvert_exporter": "python",
   "pygments_lexer": "ipython3",
   "version": "3.12.7"
  }
 },
 "nbformat": 4,
 "nbformat_minor": 2
}
